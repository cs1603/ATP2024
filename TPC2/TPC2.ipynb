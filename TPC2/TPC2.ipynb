{
 "cells": [
  {
   "cell_type": "code",
   "execution_count": null,
   "metadata": {},
   "outputs": [],
   "source": [
    "#eu adivinho\n",
    "import random\n",
    "\n",
    "n= random.randrange(0,100)\n",
    "\n",
    "palpites = 0\n",
    "meu_palpite = int(input(\"introduz um numero\"))\n",
    "\n",
    "while meu_palpite != n:\n",
    "    palpites = palpites + 1\n",
    "    if meu_palpite > n:\n",
    "        print(\"O numero é menor\")\n",
    "    elif meu_palpite < n:\n",
    "        print(\"O numero é maior\")\n",
    "    \n",
    "    meu_palpite = int(input(\"Tente novamente: \"))\n",
    "\n",
    "\n",
    "palpites += 1\n",
    "print(f\"Parabéns! Você acertou o número {n} com {palpites} palpites.\")\n",
    "    "
   ]
  },
  {
   "cell_type": "code",
   "execution_count": null,
   "metadata": {},
   "outputs": [],
   "source": [
    "#o computador adivinha\n",
    "\n",
    "import random\n",
    "contador_palpites = 0\n",
    "\n",
    "palpite = random.randrange(0,100)\n",
    "print(palpite)\n",
    "\n",
    "contador_palpites = 1\n",
    "min = 0\n",
    "max = 100\n",
    "\n",
    "\n",
    "x = input(\"introduza 'm' se o número é maior, 'n' se é menor ou 'i' se está correto: \")\n",
    "while x != 'i':\n",
    "    \n",
    "    if x == 'm':\n",
    "        contador_palpites = contador_palpites + 1\n",
    "        min = palpite + 1\n",
    "        palpite = random.randrange(min,max)\n",
    "        print(palpite)\n",
    "        x = input(\"introduzir uma palavra\")\n",
    "    \n",
    "    elif x == 'n':\n",
    "        contador_palpites = contador_palpites + 1\n",
    "        max = palpite - 1\n",
    "        palpite = random.randrange(min, max)\n",
    "        print(palpite)\n",
    "        x = input(\"introduzir uma palavra\")\n",
    "    else:\n",
    "        print(f\"Parabéns! Você acertou o número {palpite} com {contador_palpites} palpites.\")\n",
    "\n",
    "print(\"O jogo terminou\")"
   ]
  }
 ],
 "metadata": {
  "language_info": {
   "name": "python"
  }
 },
 "nbformat": 4,
 "nbformat_minor": 2
}
